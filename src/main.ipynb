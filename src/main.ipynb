{
 "cells": [
  {
   "cell_type": "markdown",
   "metadata": {},
   "source": [
    "<div dir='rtl' style=\"font-family: 'Vazirmatn', sans-serif;\">\n",
    "<h1 style=\"font-size: 28px !important; font-weight: 700\">پیاده‌سازی سیستم تصمیم‌گیری غیرمتمرکز مبتنی بر بلاکچین</h1>\n",
    "\n",
    "<table style='border: none; text-align: right !important; float:right; display:block' dir='rtl'>\n",
    "<tr style='border: none; text-align: right !important;'>\n",
    "<td style='border: none; font-size: 20px !important; text-align: right !important; font-weight: 700'>امیرحسین بانوی</td>\n",
    "<td style='border: none; font-size: 15px !important; text-align: right !important; font-weight: 600'>دانشجوی کارشناسی ارشد،نرم‌افزار،کامپیوتر،دانشکده مهندسی،دانشگاه آزاد اسلامی،مشهد،ایران</td>\n",
    "</tr>\n",
    "</table>\n",
    "</div>"
   ]
  },
  {
   "cell_type": "markdown",
   "metadata": {},
   "source": [
    "<div dir='rtl' style=\"font-family: 'Vazirmatn', sans-serif;\">\n",
    "<h2 style=\"font-size: 24px !important; font-weight: 700\">چکیده</h2>\n",
    "<p style=\"font-size: 18px !important; text-align: right; font-weight: 400; text-justify: auto\">\n",
    "دنیای امروز همواره دارد به سمت یک محیط به هم پیوسته مهاجرت می‌کند و در این دنیا، نیاز به سیستم‌های توزیع شده بسیار مهم شده است. اکثر سیستم‌های توزیع شده به دلیل اینکه برای تصمیم‌گیری متکی به یک سیستم مرکزی هستند دارای مشکلاتی همچون single point of failure می‌باشند. همچنین کمبود امنیت اطلاعات و شفاف نبودن فرایند تصمیم‌گیری در این سیستم‌های مدیریتی متمرکز باعث شده است رویکرد‌های تصمیم‌گیری توزیع شده و غیرمتمرکز بر روی بلاکچین مورد استفاده قرار گیرند. در این پیاده‌سازی سعی شده است یک قرارداد هوشمند رای‌گیری بر روی بلاکچین اتریوم نوشته شده و در فرایند اولویت دهی تصمیمات از منطق فازی برای پوشش عدم قطعیت‌ها استفاده گردد.\n",
    "</p>\n",
    "</div>"
   ]
  },
  {
   "cell_type": "markdown",
   "metadata": {},
   "source": [
    "<div dir='rtl' style=\"font-family: 'Vazirmatn', sans-serif;\">\n",
    "<h2 style=\"font-size: 24px !important; font-weight: 700\">مقدمه</h2>\n",
    "<p style=\"font-size: 18px !important; text-align: right; font-weight: 400; text-justify: auto\">\n",
    "این پیاده سازی به دو بخش کلی تقسیم می‌گردد: <br />\n",
    "بخش اول: ابتدا باید قرارداد هوشمند رای گیری نوشته شود، برای نوشتن قرار داد هوشمند از زبان <a href=\"https://docs.soliditylang.org/en/v0.8.15/\">Solidity</a> نسخه‌ی 0.8.15 استفاده شده است. <br />\n",
    "بخش دوم: در این بخش برای پیاده‌سازی منطق فازی از زبان پایتون استفاده شده است. در اینجا با استفاده از کتاب‌خانه‌ی <a href=\"https://pythonhosted.org/scikit-fuzzy/\">SciKit-Fuzzy</a> یک موتور استنتاج ممدانی نوشته شده و بر اساس آن تصمیمات اولویت بندی می‌گردند. <br />\n",
    "ورودی‌های این سیستم باید از روی بلاکچین و از طریق قرارداد هوشمند گرفته شود، برای این کار از کتاب‌خانه‌ی <a href=\"https://web3py.readthedocs.io/en/stable/\">Web3.py</a> استفاده شده و اطلاعات به صورت مستقیم از قرارداد هوشمندی که در بخش اول پیاده‌سازی شده است گرفته می‌شود.\n",
    "</p>\n",
    "</div>"
   ]
  },
  {
   "cell_type": "markdown",
   "metadata": {},
   "source": [
    "<div dir='rtl' style=\"font-family: 'Vazirmatn', sans-serif;\">\n",
    "<h2 style=\"font-size: 24px !important; font-weight: 700\">پیاده‌سازی</h2>\n",
    "</div>\n",
    "<div dir='rtl' style=\"font-family: 'Vazirmatn', sans-serif;\">\n",
    "<h3 style=\"font-size: 22px !important; font-weight: 600\">قرارداد هوشمند</h3>\n",
    "<p style=\"font-size: 18px !important; text-align: right; font-weight: 400; text-justify: auto\">\n",
    "قرارداد هوشمند سیستم رای‌گیری بر اساس بلاک‌های معرفی شده در مقاله‌ی پایه پیاده‌سازی شده است:<br />\n",
    "<center><a href=\"https://raw.githubusercontent.com/ahbanavi/blockchain-fuzzy-voting/main/src/storage/1.png\"><img style=\"object-fit: cover; height: 400px;\" src='https://raw.githubusercontent.com/ahbanavi/blockchain-fuzzy-voting/main/src/storage/1.png' /></a></center><br />\n",
    "</p>\n",
    "<p style=\"font-size: 18px !important; text-align: right; font-weight: 400; text-justify: auto\">\n",
    "قرارداد هوشمند به زبان سالیدیتی نوشته شده و در فایل <a href=\"https://github.com/ahbanavi/blockchain-fuzzy-voting/blob/main/src/Voting.sol\">Voting.sol</a> ذخیره شده است.<br />\n",
    "به دلیل اینکه توجه اصلی این پیاده‌سازی بر روی سیستم فازی است، از توضیح جزئیات پیاده‌سازی این قرارداد چشم پوشی شده است، اما به طور کلی این قرارداد شامل ویژگی‌های زیر می‌باشد:\n",
    "</p>\n",
    "\n",
    "<span style=\"font-size: 18px !important; text-align: right !important; font-weight: 400; text-justify: auto\" dir='rtl'>\n",
    "<ul>\n",
    "<li><p style=\"font-size: 18px !important; text-align: right !important; font-weight: 400; text-justify: auto\">بلاک رای یا <code>VoteBlock</code> - <a href=\"https://github.com/ahbanavi/blockchain-fuzzy-voting/blob/ef5cacc7195d3e785e2cff083abca73b083cd1a4/src/Voting.sol#L5-L10\">ارجا به کد</a></p>\n",
    "<ul>\n",
    "<li>شناسه‌ی رای</li>\n",
    "<li>زمان ایجاد رای</li>\n",
    "<li>مقدار رای: بین -۱ و ۱</li>\n",
    "<li>آدرس Agent رای دهنده  </li>\n",
    "</ul>\n",
    "</li>\n",
    "<br />\n",
    "<li><p style=\"font-size: 18px !important; text-align: right !important; font-weight: 400; text-justify: auto\">بلاک بازخورد یا <code>FeedbackBlock</code> - <a href=\"https://github.com/ahbanavi/blockchain-fuzzy-voting/blob/ef5cacc7195d3e785e2cff083abca73b083cd1a4/src/Voting.sol#L12-L17\">ارجا به کد</a></p>\n",
    "<ul>\n",
    "<li>شناسه‌ی بازخورد</li>\n",
    "<li>زمان ایجاد بازخورد</li>\n",
    "<li>متن بازخورد</li>\n",
    "<li>آدرس Agent بازخورد دهنده</li>\n",
    "</ul>\n",
    "</li>\n",
    "<br />\n",
    "<li><p style=\"font-size: 18px !important; text-align: right !important; font-weight: 400; text-justify: auto\">بلاک تصمیم یا <code>Decision</code> - <a href=\"https://github.com/ahbanavi/blockchain-fuzzy-voting/blob/ef5cacc7195d3e785e2cff083abca73b083cd1a4/src/Voting.sol#L19-L25\">ارجا به کد</a></p>\n",
    "<ul>\n",
    "<li>شناسه‌ی تصمیم</li>\n",
    "<li>زمان ایجاد تصمیم</li>\n",
    "<li>آدرس Agent ایجاد کننده‌ی تصمیم</li>\n",
    "<li>محتوای تصمیم</li>\n",
    "<li>لیستی از رای‌ها - <code>VoteBlock</code></li>\n",
    "<li>لیستی از بازخورد‌ها - <code>FeedbackBlock</code></li>\n",
    "</ul>\n",
    "</li>\n",
    "<br />\n",
    "<li><p style=\"font-size: 18px !important; text-align: right !important; font-weight: 400; text-justify: auto\">بلاک عامل یا <code>Agent</code> - <a href=\"https://github.com/ahbanavi/blockchain-fuzzy-voting/blob/ef5cacc7195d3e785e2cff083abca73b083cd1a4/src/Voting.sol#L27-L29\">ارجا به کد</a></p>\n",
    "<ul>\n",
    "<li>نام عامل</li>\n",
    "<li>آدرس عامل - به صورت مپ - <a href=\"https://github.com/ahbanavi/blockchain-fuzzy-voting/blob/ef5cacc7195d3e785e2cff083abca73b083cd1a4/src/Voting.sol#L35\">ارجا به کد</a></li>\n",
    "</ul>\n",
    "</li>\n",
    "</ul>\n",
    "</span>\n",
    "\n",
    "</div>"
   ]
  },
  {
   "cell_type": "markdown",
   "metadata": {},
   "source": [
    "<div dir='rtl' style=\"font-family: 'Vazirmatn', sans-serif;\">\n",
    "<h3 style=\"font-size: 22px !important; font-weight: 600\">سیستم فازی</h3>\n",
    "<p style=\"font-size: 18px !important; text-align: right; font-weight: 400; text-justify: auto\">\n",
    "برای پیاده‌سازی سیستم فازی، از کتاب‌خانه‌ی <a href=\"https://pythonhosted.org/scikit-fuzzy/\">SciKit-Fuzzy</a> استفاده شده است.<br />\n",
    "مراحل کار به‌صورت زیر است:<br />\n",
    "ابتدا کتاب‌خانه‌های مورد نیاز در کد import می‌شود:\n",
    "</p>\n",
    "</div>"
   ]
  },
  {
   "cell_type": "code",
   "execution_count": 1,
   "metadata": {},
   "outputs": [],
   "source": [
    "import skfuzzy as fuzz\n",
    "from skfuzzy import control as ctrl\n",
    "import matplotlib.pyplot as plt\n",
    "import numpy as np\n",
    "\n",
    "\n",
    "def Diagram(data):\n",
    "    data.view()"
   ]
  },
  {
   "cell_type": "markdown",
   "metadata": {},
   "source": [
    "<div dir='rtl' style=\"font-family: 'Vazirmatn', sans-serif;\">\n",
    "<p style=\"font-size: 18px !important; text-align: right; font-weight: 400; text-justify: auto\">\n",
    "سپس باید ورودی‌های سیستم فازی را تعیین کنیم<br />\n",
    "سیستم‌ما به تعداد عوامل تصمیم‌گیرنده، متغیر زبانی دارد. در این سیستم، هر چه جایگاه عامل بالاتر باشد، رای آن تاثیر بیشتری بر روی خروجی دارد.<br />\n",
    "مثلا اگر سیستم ۳ عامل داشته باشد، ما سه ورودی و متغیر زبانی زیر را داریم:<br />\n",
    "<ul>\n",
    "<li>ورودی اول: رای عامل ۱ - دارای بیشترین تاثیر</li>\n",
    "<li>ورودی دوم: رای عامل ۲ - تاثیر متوسط</li>\n",
    "<li>ورودی سوم: رای عامل ۳ - کمترین تاثیر</li>\n",
    "</ul>\n",
    "<br />\n",
    "مقادیر زبانی تمامی ورودی‌ها به صورت زیر است:<br />\n",
    "<ul>\n",
    "<li>رای منفی</li>\n",
    "<li>رای ممتنع</li>\n",
    "<li>رای مثبت</li>\n",
    "</ul>\n",
    "<br />\n",
    "قطعه کد زیر، به صورت پویا به تعداد عوامل ورودی‌ها با مقادیر زبانی مشخص ایجاد می‌کند:<br />\n",
    "</p>\n",
    "</div>"
   ]
  },
  {
   "cell_type": "code",
   "execution_count": 2,
   "metadata": {},
   "outputs": [
    {
     "data": {
      "image/png": "[encoded data removed]",
      "text/plain": [
       "<Figure size 432x288 with 1 Axes>"
      ]
     },
     "metadata": {
      "needs_background": "light"
     },
     "output_type": "display_data"
    }
   ],
   "source": [
    "TOTAL_AGENTS = 3\n",
    "\n",
    "# create fuzzy Votes input variables for the number of agents\n",
    "votes = {}\n",
    "for i in range(TOTAL_AGENTS):\n",
    "    votes[i]  = ctrl.Antecedent(np.arange(-1, 1.25, 0.25), 'Vote ' + str(i))\n",
    "    votes[i]['Negative'] = fuzz.trimf(votes[i].universe, [-1, -1, -0.25])\n",
    "    votes[i]['Neutral'] = fuzz.trimf(votes[i].universe, [-0.5, 0, 0.5])\n",
    "    votes[i]['Positive'] = fuzz.trimf(votes[i].universe, [0.25, 1, 1])\n",
    "    \n",
    "Diagram(votes[0])"
   ]
  },
  {
   "cell_type": "markdown",
   "metadata": {},
   "source": [
    "<div dir='rtl' style=\"font-family: 'Vazirmatn', sans-serif;\">\n",
    "<p style=\"font-size: 18px !important; text-align: right; font-weight: 400; text-justify: auto\">\n",
    "خروجی سیستم:<br />\n",
    "خروجی سیستم، میزان اولویت تصمیم می‌باشد. این میزان بین -1 و 1 بوده و به صورت زیر تعریف می‌گردد:\n",
    "<ul>\n",
    "<li>اولویت پایین</li>\n",
    "<li>اولویت متوسط</li>\n",
    "<li>اولویت بالا</li>\n",
    "</ul>\n",
    "</p>\n",
    "</div>"
   ]
  },
  {
   "cell_type": "code",
   "execution_count": 3,
   "metadata": {},
   "outputs": [
    {
     "data": {
      "image/png": "[encoded data removed]",
      "text/plain": [
       "<Figure size 432x288 with 1 Axes>"
      ]
     },
     "metadata": {
      "needs_background": "light"
     },
     "output_type": "display_data"
    }
   ],
   "source": [
    "# output for decision priority\n",
    "decision_priority = ctrl.Consequent(np.arange(-1, 1.25, 0.25), 'Decision Priority')\n",
    "decision_priority['Low'] = fuzz.trimf(decision_priority.universe, [-1, -1, -0.25])\n",
    "decision_priority['Medium'] = fuzz.trimf(decision_priority.universe, [-0.5, 0, 0.5])\n",
    "decision_priority['High'] = fuzz.trimf(decision_priority.universe, [0.25, 1, 1])\n",
    "\n",
    "Diagram(decision_priority)"
   ]
  },
  {
   "cell_type": "markdown",
   "metadata": {},
   "source": [
    "<div dir='rtl' style=\"font-family: 'Vazirmatn', sans-serif;\">\n",
    "<p style=\"font-size: 18px !important; text-align: right; font-weight: 400; text-justify: auto\">\n",
    "قوانین سیستم:<br />\n",
    "این سیستم دارای ۳ ورودی است که هر ورودی ۳ مقدار زبانی دارد، در نتیجه تعداد قوانین سیستم ۲۷ می‌باشد.<br />\n",
    "قوانین سیستم به صورت زیر است:<br />\n",
    "</p>\n",
    "</div>"
   ]
  },
  {
   "cell_type": "code",
   "execution_count": 5,
   "metadata": {},
   "outputs": [],
   "source": [
    "# create fuzzy rule base for the decision priority\n",
    "# first votes has higher impact on decision priority\n",
    "\n",
    "# lower the vote number, the higher the impact\n",
    "rules = []\n",
    "rules.append(ctrl.Rule(votes[0]['Negative']  & votes[1]['Negative']  & votes[2]['Negative'],    decision_priority['Low']))\n",
    "rules.append(ctrl.Rule(votes[0]['Negative']  & votes[1]['Negative']  & votes[2]['Neutral'],     decision_priority['Low']))\n",
    "rules.append(ctrl.Rule(votes[0]['Negative']  & votes[1]['Negative']  & votes[2]['Positive'],    decision_priority['Low']))\n",
    "rules.append(ctrl.Rule(votes[0]['Negative']  & votes[1]['Neutral']   & votes[2]['Negative'],    decision_priority['Low']))\n",
    "rules.append(ctrl.Rule(votes[0]['Negative']  & votes[1]['Neutral']   & votes[2]['Neutral'],     decision_priority['Low']))\n",
    "rules.append(ctrl.Rule(votes[0]['Negative']  & votes[1]['Neutral']   & votes[2]['Positive'],    decision_priority['Low']))\n",
    "rules.append(ctrl.Rule(votes[0]['Negative']  & votes[1]['Positive']  & votes[2]['Negative'],    decision_priority['Low']))\n",
    "rules.append(ctrl.Rule(votes[0]['Negative']  & votes[1]['Positive']  & votes[2]['Neutral'],     decision_priority['Low']))\n",
    "rules.append(ctrl.Rule(votes[0]['Negative']  & votes[1]['Positive']  & votes[2]['Positive'],    decision_priority['Medium']))\n",
    "rules.append(ctrl.Rule(votes[0]['Neutral']   & votes[1]['Negative']  & votes[2]['Negative'],    decision_priority['Low']))\n",
    "rules.append(ctrl.Rule(votes[0]['Neutral']   & votes[1]['Negative']  & votes[2]['Neutral'],     decision_priority['Low']))\n",
    "rules.append(ctrl.Rule(votes[0]['Neutral']   & votes[1]['Negative']  & votes[2]['Positive'],    decision_priority['Low']))\n",
    "rules.append(ctrl.Rule(votes[0]['Neutral']   & votes[1]['Neutral']   & votes[2]['Negative'],    decision_priority['Medium']))\n",
    "rules.append(ctrl.Rule(votes[0]['Neutral']   & votes[1]['Neutral']   & votes[2]['Neutral'],     decision_priority['Medium']))\n",
    "rules.append(ctrl.Rule(votes[0]['Neutral']   & votes[1]['Neutral']   & votes[2]['Positive'],    decision_priority['Medium']))\n",
    "rules.append(ctrl.Rule(votes[0]['Neutral']   & votes[1]['Positive']  & votes[2]['Negative'],    decision_priority['Medium']))\n",
    "rules.append(ctrl.Rule(votes[0]['Neutral']   & votes[1]['Positive']  & votes[2]['Neutral'],     decision_priority['Medium']))\n",
    "rules.append(ctrl.Rule(votes[0]['Neutral']   & votes[1]['Positive']  & votes[2]['Positive'],    decision_priority['High']))\n",
    "rules.append(ctrl.Rule(votes[0]['Positive']  & votes[1]['Negative']  & votes[2]['Negative'],    decision_priority['Medium']))\n",
    "rules.append(ctrl.Rule(votes[0]['Positive']  & votes[1]['Negative']  & votes[2]['Neutral'],     decision_priority['Medium']))\n",
    "rules.append(ctrl.Rule(votes[0]['Positive']  & votes[1]['Negative']  & votes[2]['Positive'],    decision_priority['High']))\n",
    "rules.append(ctrl.Rule(votes[0]['Positive']  & votes[1]['Neutral']   & votes[2]['Negative'],    decision_priority['Medium']))\n",
    "rules.append(ctrl.Rule(votes[0]['Positive']  & votes[1]['Neutral']   & votes[2]['Neutral'],     decision_priority['Medium']))\n",
    "rules.append(ctrl.Rule(votes[0]['Positive']  & votes[1]['Neutral']   & votes[2]['Positive'],    decision_priority['High']))\n",
    "rules.append(ctrl.Rule(votes[0]['Positive']  & votes[1]['Positive']  & votes[2]['Negative'],    decision_priority['High']))\n",
    "rules.append(ctrl.Rule(votes[0]['Positive']  & votes[1]['Positive']  & votes[2]['Neutral'],     decision_priority['High']))\n",
    "rules.append(ctrl.Rule(votes[0]['Positive']  & votes[1]['Positive']  & votes[2]['Positive'],    decision_priority['High']))\n",
    "\n",
    "\n",
    "# create fuzzy control system\n",
    "decision_priority_ctrl = ctrl.ControlSystem(rules)\n",
    "fuzzy_compute = ctrl.ControlSystemSimulation(decision_priority_ctrl)"
   ]
  },
  {
   "cell_type": "markdown",
   "metadata": {},
   "source": [
    "<div dir='rtl' style=\"font-family: 'Vazirmatn', sans-serif;\">\n",
    "<p style=\"font-size: 18px !important; text-align: right; font-weight: 400; text-justify: auto\">\n",
    "پیش از آن‌که سراغ دریافت ورودی از بلاکچین برویم، بهتر است سیستم فازی را تست کنیم:<br />\n",
    "</p>\n",
    "</div>"
   ]
  },
  {
   "cell_type": "code",
   "execution_count": 7,
   "metadata": {},
   "outputs": [
    {
     "name": "stdout",
     "output_type": "stream",
     "text": [
      "Decision Priority: 0.6833333333333333\n"
     ]
    },
    {
     "data": {
      "image/png": "[encoded data removed]",
      "text/plain": [
       "<Figure size 432x288 with 1 Axes>"
      ]
     },
     "metadata": {
      "needs_background": "light"
     },
     "output_type": "display_data"
    }
   ],
   "source": [
    "# set input values\n",
    "fuzzy_compute.input['Vote 0'] = 0.5\n",
    "fuzzy_compute.input['Vote 1'] = 0.7\n",
    "fuzzy_compute.input['Vote 2'] = -0.1\n",
    "\n",
    "# compute output\n",
    "fuzzy_compute.compute()\n",
    "\n",
    "# print output\n",
    "print('Decision Priority: ' + str(fuzzy_compute.output['Decision Priority']))\n",
    "decision_priority.view(sim=fuzzy_compute)"
   ]
  },
  {
   "cell_type": "markdown",
   "metadata": {},
   "source": [
    "<div dir='rtl' style=\"font-family: 'Vazirmatn', sans-serif;\">\n",
    "<h3 style=\"font-size: 22px !important; font-weight: 600\">وب ۳ - اتصال کانترکت به سیستم فازی</h3>\n",
    "<p style=\"font-size: 18px !important; text-align: right; font-weight: 400; text-justify: auto\">\n",
    "در این مرحله با استفاده از کتاب‌خانه‌ی <a href=\"https://web3py.readthedocs.io/en/stable/\">Web3.py</a> ما کانترکت را بر روی شبکه‌ دیپلوی کرده و با آن ارتباط برقرار می‌کنیم.<br />\n",
    "</p>\n",
    "</div>"
   ]
  },
  {
   "cell_type": "code",
   "execution_count": 9,
   "metadata": {},
   "outputs": [
    {
     "data": {
      "text/plain": [
       "True"
      ]
     },
     "execution_count": 9,
     "metadata": {},
     "output_type": "execute_result"
    }
   ],
   "source": [
    "import web3\n",
    "import os\n",
    "from dotenv import load_dotenv\n",
    "\n",
    "load_dotenv()"
   ]
  },
  {
   "cell_type": "markdown",
   "metadata": {},
   "source": [
    "<div dir='rtl' style=\"font-family: 'Vazirmatn', sans-serif;\">\n",
    "<p style=\"font-size: 18px !important; text-align: right; font-weight: 400; text-justify: auto\">\n",
    "به منظور شبیه‌سازی شبکه‌ی اتریوم، از بلاکچین محلی <a href=\"https://trufflesuite.com/ganache/\">Ganache</a> استفاده می‌کنیم.<br />\n",
    "</p>\n",
    "</div>"
   ]
  },
  {
   "cell_type": "code",
   "execution_count": 11,
   "metadata": {},
   "outputs": [
    {
     "name": "stdout",
     "output_type": "stream",
     "text": [
      "Ganache CLI v6.12.2 (ganache-core: 2.13.2)\n",
      "\n",
      "Available Accounts\n",
      "==================\n",
      "(0) 0x24ea6b8435F103DD873E9a48841a8dA5456f96e3 (100 ETH)\n",
      "(1) 0x39a206c90a57f9477EF7d3c2cda6599b2D96CC19 (100 ETH)\n",
      "(2) 0xd7184128E6E2fd8Baa10A6a781bb77FCc7af41dD (100 ETH)\n",
      "(3) 0x9DF21B3c4bcA71f9c4063A4104Cc7a1c8d12A0A4 (100 ETH)\n",
      "(4) 0xc1c523971477a5302ecbBf172cbA12ab8332BC56 (100 ETH)\n",
      "(5) 0x79686BA36E05E7029D446DE1706FA86B9935Af53 (100 ETH)\n",
      "(6) 0x7Ed2fdCAE69355391B38f214e113FabF18b9B510 (100 ETH)\n",
      "(7) 0xd76ef98a52BEb57b29CBff26cbD7A806f985CB18 (100 ETH)\n",
      "(8) 0xBc2a3C97744879AD43f35D99Fe1039c52DeDEc5d (100 ETH)\n",
      "(9) 0xbe5ee610E578084532658D126d7689F88574A067 (100 ETH)\n",
      "\n",
      "Private Keys\n",
      "==================\n",
      "(0) 0x193cb00808fdf28a4975cb2c608dbaf5ab6241ace72e335d3e1e1cb38081b838\n",
      "(1) 0xdfa9c2507beeb2f9a4ca1f477c0fb77a5d2c9219bcd3d840ef34a6ef666dade4\n",
      "(2) 0x62148e3fe4436a02cf386650abc3e3ce699486f077741eb2cf70501575782256\n",
      "(3) 0x3fe1bc8dc3993869b335044351aae3e397e22217d4899d04a0d008aa0a6e9620\n",
      "(4) 0xb937cbea5932204ed234992a691d9cf78af4affb58fea5439588aedc8f726a4c\n",
      "(5) 0xd79c5158121810494ab6d0bb95baf3bc75edd1ab50a3b543ac3fc1622b60f233\n",
      "(6) 0xb23a17b78fb88de0b6716cada6b3c0f057dbf038887d91e1ba69041c02e2274c\n",
      "(7) 0xae35e6b3858f083619c82a84f8978836bee7c4b749872bbb6e65b5111d9c9ded\n",
      "(8) 0x097b9470fdefd2d194a2e79d1dbdacc5855b484b6700924fd267e7de2565b794\n",
      "(9) 0x2904923336435b16598415a0e08f4978fdb94a2cac2cd9905ffeeb447636cdf2\n",
      "\n",
      "HD Wallet\n",
      "==================\n",
      "Mnemonic:      chicken become ripple love buyer sell shed universe drill solar stick goat\n",
      "Base HD Path:  m/44'/60'/0'/0/{account_index}\n",
      "\n",
      "Gas Price\n",
      "==================\n",
      "\u001b[33m20000000000\u001b[39m\n",
      "\n",
      "Gas Limit\n",
      "==================\n",
      "\u001b[33m6721975\u001b[39m\n",
      "\n",
      "Call Gas Limit\n",
      "==================\n",
      "\u001b[33m9007199254740991\u001b[39m\n",
      "\n",
      "Listening on 127.0.0.1:8545\n",
      "^C\n"
     ]
    }
   ],
   "source": [
    "!ganache-cli"
   ]
  },
  {
   "cell_type": "markdown",
   "metadata": {},
   "source": [
    "<div dir='rtl' style=\"font-family: 'Vazirmatn', sans-serif;\">\n",
    "<p style=\"font-size: 18px !important; text-align: right; font-weight: 400; text-justify: auto\">\n",
    "همانطور که از خروجی بالا پیداست، بلاکچین Ganache به صورت پیش‌فرض شامل ۱۰ اکانت است که ما جلوتر از سه اکانت اول آن استفاده می‌کنیم.<br />\n",
    "سپس از طریق زیر کد را به شبکه متصل می‌کنیم:<br />\n",
    "</p>\n",
    "</div>"
   ]
  },
  {
   "cell_type": "code",
   "execution_count": 13,
   "metadata": {},
   "outputs": [
    {
     "name": "stdout",
     "output_type": "stream",
     "text": [
      "True\n"
     ]
    }
   ],
   "source": [
    "w3 = web3.Web3(web3.HTTPProvider(os.getenv(\"WEB3_PROVIDER\", \"http://127.0.0.1:8545\")))\n",
    "\n",
    "# check if connected\n",
    "print(w3.isConnected())"
   ]
  },
  {
   "cell_type": "markdown",
   "metadata": {},
   "source": [
    "<div dir='rtl' style=\"font-family: 'Vazirmatn', sans-serif;\">\n",
    "<p style=\"font-size: 18px !important; text-align: right; font-weight: 400; text-justify: auto\">\n",
    "همچنین برای تعامل با کانترکت، ما به سه عامل نیاز داریم که این سه Agent را از طریق زیر از شبکه دریافت می‌کنیم:<br />\n",
    "</p>\n",
    "</div>"
   ]
  },
  {
   "cell_type": "code",
   "execution_count": 16,
   "metadata": {},
   "outputs": [
    {
     "name": "stdout",
     "output_type": "stream",
     "text": [
      "['0x95a661E5749B9333984D77b57B93eF03521FB7ED', '0x57CdaED8DAcB9081D67a1D598eae5269Be5e767B', '0x002f4562E0AbB80e2870317ab111b43677204453']\n"
     ]
    }
   ],
   "source": [
    "# load first 3 accounts from provider\n",
    "accounts = w3.eth.accounts[:3]\n",
    "print(accounts)"
   ]
  },
  {
   "cell_type": "markdown",
   "metadata": {},
   "source": [
    "<div dir='rtl' style=\"font-family: 'Vazirmatn', sans-serif;\">\n",
    "<p style=\"font-size: 18px !important; text-align: right; font-weight: 400; text-justify: auto\">\n",
    "به جهت اینکه فرآیند دیپلوی کردن بر روی شبکه از طریق کد طولانی و توضیح آن خارج از بحث اصلی است، کانترکت را در این مرحله با استفاده از <a href=\"https://remix.ethereum.org/\">Remix - Ethereum IDE</a> دیپلوی کرده و آدرس آن را در کد وارد می‌کنیم.<br />\n",
    "همچنین برای تعامل با کانترکت ما به <a href=\"https://en.wikipedia.org/wiki/Application_binary_interface\">ABI</a> نیز نیاز داریم که از طریق کامپایلر آن را ایجاد و در کد بارگزاری می‌کنیم.<br />\n",
    "</p>\n",
    "</div>"
   ]
  },
  {
   "cell_type": "code",
   "execution_count": 14,
   "metadata": {},
   "outputs": [
    {
     "name": "stdout",
     "output_type": "stream",
     "text": [
      "Compiler run successful. Artifact(s) can be found in directory \"build\".\n"
     ]
    }
   ],
   "source": [
    "!solc Voting.sol --abi -o build --overwrite"
   ]
  },
  {
   "cell_type": "code",
   "execution_count": 17,
   "metadata": {},
   "outputs": [
    {
     "ename": "AttributeError",
     "evalue": "'Contract' object has no attribute 'accounts'",
     "output_type": "error",
     "traceback": [
      "\u001b[0;31m---------------------------------------------------------------------------\u001b[0m",
      "\u001b[0;31mAttributeError\u001b[0m                            Traceback (most recent call last)",
      "\u001b[1;32m/workspaces/blockchain-fuzzy-voting/src/main.ipynb Cell 25\u001b[0m in \u001b[0;36m<cell line: 9>\u001b[0;34m()\u001b[0m\n\u001b[1;32m      <a href='vscode-notebook-cell://codespaces%2Bahbanavi-blockchain-fuzzy-voting-5p45w947h4qvv/workspaces/blockchain-fuzzy-voting/src/main.ipynb#ch0000011vscode-remote?line=5'>6</a>\u001b[0m contract \u001b[39m=\u001b[39m w3\u001b[39m.\u001b[39meth\u001b[39m.\u001b[39mcontract(address\u001b[39m=\u001b[39m\u001b[39m\"\u001b[39m\u001b[39m0x4bcE0E5A7f520e0eBeF252FE0E666769efA83Ed8\u001b[39m\u001b[39m\"\u001b[39m, abi\u001b[39m=\u001b[39mabi)\n\u001b[1;32m      <a href='vscode-notebook-cell://codespaces%2Bahbanavi-blockchain-fuzzy-voting-5p45w947h4qvv/workspaces/blockchain-fuzzy-voting/src/main.ipynb#ch0000011vscode-remote?line=7'>8</a>\u001b[0m \u001b[39m# check if contract is connected\u001b[39;00m\n\u001b[0;32m----> <a href='vscode-notebook-cell://codespaces%2Bahbanavi-blockchain-fuzzy-voting-5p45w947h4qvv/workspaces/blockchain-fuzzy-voting/src/main.ipynb#ch0000011vscode-remote?line=8'>9</a>\u001b[0m \u001b[39mprint\u001b[39m(contract\u001b[39m.\u001b[39;49maccounts(\u001b[39m'\u001b[39m\u001b[39maccounts\u001b[39m\u001b[39m'\u001b[39m)\u001b[39m.\u001b[39mcall())\n",
      "\u001b[0;31mAttributeError\u001b[0m: 'Contract' object has no attribute 'accounts'"
     ]
    }
   ],
   "source": [
    "# load abi from abi file\n",
    "with open(\"build/Voting.abi\", \"r\") as abi_file:\n",
    "    abi = abi_file.read()\n",
    "\n",
    "# get the contract\n",
    "contract = w3.eth.contract(address=\"0x4bcE0E5A7f520e0eBeF252FE0E666769efA83Ed8\", abi=abi)\n",
    "\n",
    "# check if contract is connected\n",
    "print(contract.accounts('accounts').call())\n"
   ]
  },
  {
   "cell_type": "code",
   "execution_count": null,
   "metadata": {},
   "outputs": [],
   "source": [
    "# get first decision\n",
    "decision = contract.functions.decisions(1).call()\n",
    "print(\"Decision:\", decision)"
   ]
  },
  {
   "cell_type": "code",
   "execution_count": null,
   "metadata": {},
   "outputs": [],
   "source": [
    "# get votes of first decision\n",
    "votes_info = contract.functions.getVotes(1).call()\n",
    "\n",
    "votes_input = []\n",
    "for i in range(len(votes_info)):\n",
    "    votes_input.append(votes_info[i][2] / 100)\n",
    "\n",
    "print(\"Votes:\", votes_input)\n"
   ]
  },
  {
   "cell_type": "code",
   "execution_count": null,
   "metadata": {},
   "outputs": [],
   "source": [
    "print(votes_input)\n",
    "compute.input['Vote 0'] = votes_input[0]\n",
    "compute.input['Vote 1'] = votes_input[1]\n",
    "compute.input['Vote 2'] = votes_input[2]\n",
    "\n",
    "compute.compute()\n",
    "print('Decision Priority: ' + str(compute.output['Decision Priority']))\n",
    "\n",
    "decision_priority.view(sim=compute)"
   ]
  }
 ],
 "metadata": {
  "kernelspec": {
   "display_name": "Python 3.10.4 64-bit",
   "language": "python",
   "name": "python3"
  },
  "language_info": {
   "codemirror_mode": {
    "name": "ipython",
    "version": 3
   },
   "file_extension": ".py",
   "mimetype": "text/x-python",
   "name": "python",
   "nbconvert_exporter": "python",
   "pygments_lexer": "ipython3",
   "version": "3.10.4"
  },
  "orig_nbformat": 4,
  "vscode": {
   "interpreter": {
    "hash": "4f946df053fbf2b937619d3c5458e7af74262f9a954d8797ba0b27400bcafe06"
   }
  }
 },
 "nbformat": 4,
 "nbformat_minor": 2
}
