{
 "cells": [
  {
   "cell_type": "code",
   "execution_count": 1,
   "metadata": {},
   "outputs": [
    {
     "name": "stdout",
     "output_type": "stream",
     "text": [
      "Compiler run successful. Artifact(s) can be found in directory \"build\".\n"
     ]
    }
   ],
   "source": [
    "!solc Voting.sol --abi -o build --overwrite "
   ]
  },
  {
   "cell_type": "code",
   "execution_count": 2,
   "metadata": {},
   "outputs": [],
   "source": [
    "import web3\n",
    "import os\n",
    "from dotenv import load_dotenv\n",
    "\n",
    "load_dotenv()\n",
    "\n",
    "# connect to rinkeby\n",
    "w3 = web3.Web3(web3.HTTPProvider(os.getenv(\"WEB3_PROVIDER\")))\n",
    "\n",
    "# load abi from abi file\n",
    "with open(\"build/Voting.abi\", \"r\") as abi_file:\n",
    "    abi = abi_file.read()\n",
    "\n",
    "# get the contract\n",
    "contract = w3.eth.contract(address=os.getenv(\"CONTRACT_ADDRESS\"), abi=abi)"
   ]
  },
  {
   "cell_type": "code",
   "execution_count": 5,
   "metadata": {},
   "outputs": [
    {
     "name": "stdout",
     "output_type": "stream",
     "text": [
      "Decision: ['test', '0x722b489F1d5afa914C71c003Bc350Ae6B5702278', 1657543326]\n"
     ]
    }
   ],
   "source": [
    "# get first decision\n",
    "decision = contract.functions.decisions(1).call()\n",
    "print(\"Decision:\", decision)"
   ]
  }
 ],
 "metadata": {
  "kernelspec": {
   "display_name": "Python 3.10.4 64-bit",
   "language": "python",
   "name": "python3"
  },
  "language_info": {
   "codemirror_mode": {
    "name": "ipython",
    "version": 3
   },
   "file_extension": ".py",
   "mimetype": "text/x-python",
   "name": "python",
   "nbconvert_exporter": "python",
   "pygments_lexer": "ipython3",
   "version": "3.10.4"
  },
  "orig_nbformat": 4,
  "vscode": {
   "interpreter": {
    "hash": "4f946df053fbf2b937619d3c5458e7af74262f9a954d8797ba0b27400bcafe06"
   }
  }
 },
 "nbformat": 4,
 "nbformat_minor": 2
}
