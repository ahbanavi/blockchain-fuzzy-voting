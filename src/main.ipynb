{
 "cells": [
  {
   "cell_type": "markdown",
   "metadata": {},
   "source": [
    "<div dir='rtl' style=\"font-family:vazirmatn;\">\n",
    "<h1 style=\"font-size: 19px; font-weight: 700\">پیاده‌سازی سیستم تصمیم‌گیری غیرمتمرکز مبتنی بر بلاکچین</h1>\n",
    "\n",
    "<table style='border: none; text-align: right !important; float:right; display:block' dir='rtl'>\n",
    "<tr style='border: none; text-align: right !important;'>\n",
    "<td style='border: none; font-size: 16px; text-align: right !important; font-weight: 700'>امیرحسین بانوی</td>\n",
    "<td style='border: none; font-size: 9px; text-align: right !important; font-weight: 600'>دانشجوی کارشناسی ارشد،نرم‌افزار،کامپیوتر،دانشکده مهندسی،دانشگاه آزاد اسلامی،مشهد،ایران</td>\n",
    "</tr>\n",
    "</table>\n",
    "</div>"
   ]
  },
  {
   "cell_type": "markdown",
   "metadata": {},
   "source": [
    "<div dir='rtl' style=\"font-family:vazirmatn;\">\n",
    "<h2 style=\"font-size: 17px; font-weight: 700\">چکیده</h2>\n",
    "<p style=\"font-size: 13px; text-align: right; font-weight: 400; text-justify: auto\">\n",
    "دنیای امروز همواره دارد به سمت یک محیط به هم پیوسته مهاجرت می‌کند و در این دنیا، نیاز به سیستم‌های توزیع شده بسیار مهم شده است. اکثر سیستم‌های توزیع شده به دلیل اینکه برای تصمیم‌گیری متکی به یک سیستم مرکزی هستند دارای مشکلاتی همچون single point of failure می‌باشند. همچنین کمبود امنیت اطلاعات و شفاف نبودن فرایند تصمیم‌گیری در این سیستم‌های مدیریتی متمرکز باعث شده است رویکرد‌های تصمیم‌گیری توزیع شده و غیرمتمرکز بر روی بلاکچین مورد استفاده قرار گیرند. در این پیاده‌سازی سعی شده است یک قرارداد هوشمند رای‌گیری بر روی بلاکچین اتریوم نوشته شده و در فرایند اولویت دهی تصمیمات از منطق فازی برای پوشش عدم قطعیت‌ها استفاده گردد.\n",
    "</p>\n",
    "</div>"
   ]
  },
  {
   "cell_type": "markdown",
   "metadata": {},
   "source": [
    "<div dir='rtl' style=\"font-family:vazirmatn;\">\n",
    "<h2 style=\"font-size: 17px; font-weight: 700\">مقدمه</h2>\n",
    "<p style=\"font-size: 13px; text-align: right; font-weight: 400; text-justify: auto\">\n",
    "این پیاده سازی به دو بخش کلی تقسیم می‌گردد: <br />\n",
    "بخش اول: ابتدا باید قرارداد هوشمند رای گیری نوشته شود، برای نوشتن قرار داد هوشمند از زبان <a href=\"https://docs.soliditylang.org/en/v0.8.15/\">Solidity</a> نسخه‌ی 0.8.15 استفاده شده است. <br />\n",
    "بخش دوم: در این بخش برای پیاده‌سازی منطق فازی از زبان پایتون استفاده شده است. در اینجا با استفاده از کتابخانه‌ی <a href=\"https://pythonhosted.org/scikit-fuzzy/\">SciKit-Fuzzy</a> یک موتور استنتاج ممدانی نوشته شده و بر اساس آن تصمیمات اولویت بندی می‌گردند. <br />\n",
    "ورودی‌های این سیستم باید از روی بلاکچین و از طریق قرارداد هوشمند گرفته شود، برای این کار از کتاب‌خانه‌ی <a href=\"https://web3py.readthedocs.io/en/stable/\">Web3.py</a> استفاده شده و اطلاعات به صورت مستقیم از قرارداد هوشمندی که در بخش اول پیاده‌سازی شده است گرفته می‌شود.\n",
    "</p>\n",
    "</div>"
   ]
  },
  {
   "cell_type": "markdown",
   "metadata": {},
   "source": [
    "<div dir='rtl' style=\"font-family:vazirmatn;\">\n",
    "<h2 style=\"font-size: 17px; font-weight: 700\">پیاده‌سازی</h2>\n",
    "</div>\n",
    "<div dir='rtl' style=\"font-family:vazirmatn;\">\n",
    "<h3 style=\"font-size: 16px; font-weight: 600\">قرارداد هوشمند</h3>\n",
    "<p style=\"font-size: 13px; text-align: right; font-weight: 400; text-justify: auto\">\n",
    "قرارداد هوشمند سیستم رای‌گیری بر اساس بلاک‌های معرفی شده در مقاله‌ی پایه پیاده‌سازی شده است:<br />\n",
    "<center><a href=\"./storage/1.png\"><img style=\"object-fit: cover; height: 400px;\" src='./storage/1.png' /></a></center><br />\n",
    "</p>\n",
    "<p style=\"font-size: 13px; text-align: right; font-weight: 400; text-justify: auto\">\n",
    "قرارداد هوشمند به زبان سالیدیتی نوشته شده و در فایل <a href=\"./Voting.sol\">Voting.sol</a> ذخیره شده است.<br />\n",
    "به دلیل اینکه توجه اصلی این پیاده‌سازی بر روی سیستم فازی است، از توضیح جزئیات پیاده‌سازی این قرارداد چشم پوشی شده است، اما به طور کلی این قرارداد شامل ویژگی‌های زیر می‌باشد:\n",
    "</p>\n",
    "\n",
    "<span style=\"font-size: 13px; text-align: right !important; font-weight: 400; text-justify: auto\" dir='rtl'>\n",
    "<ul>\n",
    "<li><p style=\"font-size: 13px; text-align: right !important; font-weight: 400; text-justify: auto\">بلاک رای یا <code>VoteBlock</code> - <a href=\"https://github.com/ahbanavi/blockchain-fuzzy-voting/blob/ef5cacc7195d3e785e2cff083abca73b083cd1a4/src/Voting.sol#L5-L10\">ارجا به کد</a></p>\n",
    "<ul>\n",
    "<li>شناسه‌ی رای</li>\n",
    "<li>زمان ایجاد رای</li>\n",
    "<li>مقدار رای: بین -۱ و ۱</li>\n",
    "<li>آدرس Agent رای دهنده  </li>\n",
    "</ul>\n",
    "</li>\n",
    "<br />\n",
    "<li><p style=\"font-size: 13px; text-align: right !important; font-weight: 400; text-justify: auto\">بلاک بازخورد یا <code>FeedbackBlock</code> - <a href=\"https://github.com/ahbanavi/blockchain-fuzzy-voting/blob/ef5cacc7195d3e785e2cff083abca73b083cd1a4/src/Voting.sol#L12-L17\">ارجا به کد</a></p>\n",
    "<ul>\n",
    "<li>شناسه‌ی بازخورد</li>\n",
    "<li>زمان ایجاد بازخورد</li>\n",
    "<li>متن بازخورد</li>\n",
    "<li>آدرس Agent بازخورد دهنده</li>\n",
    "</ul>\n",
    "</li>\n",
    "<br />\n",
    "<li><p style=\"font-size: 13px; text-align: right !important; font-weight: 400; text-justify: auto\">بلاک تصمیم یا <code>Decision</code> - <a href=\"https://github.com/ahbanavi/blockchain-fuzzy-voting/blob/ef5cacc7195d3e785e2cff083abca73b083cd1a4/src/Voting.sol#L19-L25\">ارجا به کد</a></p>\n",
    "<ul>\n",
    "<li>شناسه‌ی تصمیم</li>\n",
    "<li>زمان ایجاد تصمیم</li>\n",
    "<li>آدرس Agent ایجاد کننده‌ی تصمیم</li>\n",
    "<li>محتوای تصمیم</li>\n",
    "<li>لیستی از رای‌ها - <code>VoteBlock</code></li>\n",
    "<li>لیستی از بازخورد‌ها - <code>FeedbackBlock</code></li>\n",
    "</ul>\n",
    "</li>\n",
    "<br />\n",
    "<li><p style=\"font-size: 13px; text-align: right !important; font-weight: 400; text-justify: auto\">بلاک عامل یا <code>Agent</code> - <a href=\"https://github.com/ahbanavi/blockchain-fuzzy-voting/blob/ef5cacc7195d3e785e2cff083abca73b083cd1a4/src/Voting.sol#L27-L29\">ارجا به کد</a></p>\n",
    "<ul>\n",
    "<li>نام عامل</li>\n",
    "<li>آدرس عامل - به صورت مپ - <a href=\"https://github.com/ahbanavi/blockchain-fuzzy-voting/blob/ef5cacc7195d3e785e2cff083abca73b083cd1a4/src/Voting.sol#L35\">ارجا به کد</a></li>\n",
    "</ul>\n",
    "</li>\n",
    "</ul>\n",
    "</span>\n",
    "\n",
    "</div>"
   ]
  },
  {
   "cell_type": "code",
   "execution_count": null,
   "metadata": {},
   "outputs": [],
   "source": [
    "import skfuzzy as fuzz\n",
    "from skfuzzy import control as ctrl\n",
    "import matplotlib.pyplot as plt\n",
    "import numpy as np\n",
    "\n",
    "\n",
    "def Diagram(data):\n",
    "    data.view()"
   ]
  },
  {
   "cell_type": "code",
   "execution_count": null,
   "metadata": {},
   "outputs": [],
   "source": [
    "TOTAL_AGENTS = 3\n",
    "\n",
    "# create fuzzy Votes input variables for the number of agents\n",
    "votes = {}\n",
    "for i in range(TOTAL_AGENTS):\n",
    "    votes[i]  = ctrl.Antecedent(np.arange(-1, 1.25, 0.25), 'Vote ' + str(i))\n",
    "    votes[i]['Negative'] = fuzz.trimf(votes[i].universe, [-1, -1, -0.25])\n",
    "    votes[i]['Neutral'] = fuzz.trimf(votes[i].universe, [-0.5, 0, 0.5])\n",
    "    votes[i]['Positive'] = fuzz.trimf(votes[i].universe, [0.25, 1, 1])\n",
    "Diagram(votes[0])"
   ]
  },
  {
   "cell_type": "code",
   "execution_count": null,
   "metadata": {},
   "outputs": [],
   "source": [
    "# output for decision priority\n",
    "decision_priority = ctrl.Consequent(np.arange(-1, 1.25, 0.25), 'Decision Priority')\n",
    "decision_priority['Low'] = fuzz.trimf(decision_priority.universe, [-1, -1, -0.25])\n",
    "decision_priority['Medium'] = fuzz.trimf(decision_priority.universe, [-0.5, 0, 0.5])\n",
    "decision_priority['High'] = fuzz.trimf(decision_priority.universe, [0.25, 1, 1])\n",
    "\n",
    "Diagram(decision_priority)"
   ]
  },
  {
   "cell_type": "code",
   "execution_count": null,
   "metadata": {},
   "outputs": [],
   "source": [
    "# create fuzzy rule base for the decision priority\n",
    "# first votes has higher impact on decision priority\n",
    "\n",
    "# lower the vote number, the higher the impact\n",
    "rules = []\n",
    "rules.append(ctrl.Rule(votes[0]['Negative']  & votes[1]['Negative']  & votes[2]['Negative'],    decision_priority['Low']))\n",
    "rules.append(ctrl.Rule(votes[0]['Negative']  & votes[1]['Negative']  & votes[2]['Neutral'],     decision_priority['Low']))\n",
    "rules.append(ctrl.Rule(votes[0]['Negative']  & votes[1]['Negative']  & votes[2]['Positive'],    decision_priority['Low']))\n",
    "rules.append(ctrl.Rule(votes[0]['Negative']  & votes[1]['Neutral']   & votes[2]['Negative'],    decision_priority['Low']))\n",
    "rules.append(ctrl.Rule(votes[0]['Negative']  & votes[1]['Neutral']   & votes[2]['Neutral'],     decision_priority['Low']))\n",
    "rules.append(ctrl.Rule(votes[0]['Negative']  & votes[1]['Neutral']   & votes[2]['Positive'],    decision_priority['Low']))\n",
    "rules.append(ctrl.Rule(votes[0]['Negative']  & votes[1]['Positive']  & votes[2]['Negative'],    decision_priority['Low']))\n",
    "rules.append(ctrl.Rule(votes[0]['Negative']  & votes[1]['Positive']  & votes[2]['Neutral'],     decision_priority['Low']))\n",
    "rules.append(ctrl.Rule(votes[0]['Negative']  & votes[1]['Positive']  & votes[2]['Positive'],    decision_priority['Medium']))\n",
    "rules.append(ctrl.Rule(votes[0]['Neutral']   & votes[1]['Negative']  & votes[2]['Negative'],    decision_priority['Low']))\n",
    "rules.append(ctrl.Rule(votes[0]['Neutral']   & votes[1]['Negative']  & votes[2]['Neutral'],     decision_priority['Low']))\n",
    "rules.append(ctrl.Rule(votes[0]['Neutral']   & votes[1]['Negative']  & votes[2]['Positive'],    decision_priority['Low']))\n",
    "rules.append(ctrl.Rule(votes[0]['Neutral']   & votes[1]['Neutral']   & votes[2]['Negative'],    decision_priority['Medium']))\n",
    "rules.append(ctrl.Rule(votes[0]['Neutral']   & votes[1]['Neutral']   & votes[2]['Neutral'],     decision_priority['Medium']))\n",
    "rules.append(ctrl.Rule(votes[0]['Neutral']   & votes[1]['Neutral']   & votes[2]['Positive'],    decision_priority['Medium']))\n",
    "rules.append(ctrl.Rule(votes[0]['Neutral']   & votes[1]['Positive']  & votes[2]['Negative'],    decision_priority['Medium']))\n",
    "rules.append(ctrl.Rule(votes[0]['Neutral']   & votes[1]['Positive']  & votes[2]['Neutral'],     decision_priority['Medium']))\n",
    "rules.append(ctrl.Rule(votes[0]['Neutral']   & votes[1]['Positive']  & votes[2]['Positive'],    decision_priority['High']))\n",
    "rules.append(ctrl.Rule(votes[0]['Positive']  & votes[1]['Negative']  & votes[2]['Negative'],    decision_priority['Medium']))\n",
    "rules.append(ctrl.Rule(votes[0]['Positive']  & votes[1]['Negative']  & votes[2]['Neutral'],     decision_priority['Medium']))\n",
    "rules.append(ctrl.Rule(votes[0]['Positive']  & votes[1]['Negative']  & votes[2]['Positive'],    decision_priority['High']))\n",
    "rules.append(ctrl.Rule(votes[0]['Positive']  & votes[1]['Neutral']   & votes[2]['Negative'],    decision_priority['Medium']))\n",
    "rules.append(ctrl.Rule(votes[0]['Positive']  & votes[1]['Neutral']   & votes[2]['Neutral'],     decision_priority['Medium']))\n",
    "rules.append(ctrl.Rule(votes[0]['Positive']  & votes[1]['Neutral']   & votes[2]['Positive'],    decision_priority['High']))\n",
    "rules.append(ctrl.Rule(votes[0]['Positive']  & votes[1]['Positive']  & votes[2]['Negative'],    decision_priority['High']))\n",
    "rules.append(ctrl.Rule(votes[0]['Positive']  & votes[1]['Positive']  & votes[2]['Neutral'],     decision_priority['High']))\n",
    "rules.append(ctrl.Rule(votes[0]['Positive']  & votes[1]['Positive']  & votes[2]['Positive'],    decision_priority['High']))\n",
    "\n",
    "\n",
    "# create fuzzy control system\n",
    "decision_priority_ctrl = ctrl.ControlSystem(rules)\n",
    "compute = ctrl.ControlSystemSimulation(decision_priority_ctrl)\n",
    "\n",
    "# set input values\n",
    "compute.input['Vote 0'] = 0.5\n",
    "compute.input['Vote 1'] = 0.5\n",
    "compute.input['Vote 2'] = 0.5\n",
    "\n",
    "# compute output\n",
    "compute.compute()\n",
    "\n",
    "# print output\n",
    "print('Decision Priority: ' + str(compute.output['Decision Priority']))"
   ]
  },
  {
   "cell_type": "code",
   "execution_count": null,
   "metadata": {},
   "outputs": [],
   "source": [
    "import web3\n",
    "import os\n",
    "from dotenv import load_dotenv\n",
    "\n",
    "load_dotenv()"
   ]
  },
  {
   "cell_type": "code",
   "execution_count": null,
   "metadata": {},
   "outputs": [],
   "source": [
    "w3 = web3.Web3(web3.HTTPProvider(os.getenv(\"WEB3_PROVIDER\")))\n",
    "\n",
    "# check if connected\n",
    "print(w3.isConnected())"
   ]
  },
  {
   "cell_type": "code",
   "execution_count": null,
   "metadata": {},
   "outputs": [],
   "source": [
    "!solc Voting.sol --abi -o build --overwrite"
   ]
  },
  {
   "cell_type": "code",
   "execution_count": null,
   "metadata": {},
   "outputs": [],
   "source": [
    "# load abi from abi file\n",
    "with open(\"build/Voting.abi\", \"r\") as abi_file:\n",
    "    abi = abi_file.read()\n",
    "\n",
    "# get the contract\n",
    "contract = w3.eth.contract(address=\"0x4bcE0E5A7f520e0eBeF252FE0E666769efA83Ed8\", abi=abi)"
   ]
  },
  {
   "cell_type": "code",
   "execution_count": null,
   "metadata": {},
   "outputs": [],
   "source": [
    "# get first decision\n",
    "decision = contract.functions.decisions(1).call()\n",
    "print(\"Decision:\", decision)"
   ]
  },
  {
   "cell_type": "code",
   "execution_count": null,
   "metadata": {},
   "outputs": [],
   "source": [
    "# get votes of first decision\n",
    "votes_info = contract.functions.getVotes(1).call()\n",
    "\n",
    "votes_input = []\n",
    "for i in range(len(votes_info)):\n",
    "    votes_input.append(votes_info[i][2] / 100)\n",
    "\n",
    "print(\"Votes:\", votes_input)\n"
   ]
  },
  {
   "cell_type": "code",
   "execution_count": null,
   "metadata": {},
   "outputs": [],
   "source": [
    "print(votes_input)\n",
    "compute.input['Vote 0'] = votes_input[0]\n",
    "compute.input['Vote 1'] = votes_input[1]\n",
    "compute.input['Vote 2'] = votes_input[2]\n",
    "\n",
    "compute.compute()\n",
    "print('Decision Priority: ' + str(compute.output['Decision Priority']))\n",
    "\n",
    "decision_priority.view(sim=compute)"
   ]
  }
 ],
 "metadata": {
  "kernelspec": {
   "display_name": "Python 3.10.4 64-bit",
   "language": "python",
   "name": "python3"
  },
  "language_info": {
   "codemirror_mode": {
    "name": "ipython",
    "version": 3
   },
   "file_extension": ".py",
   "mimetype": "text/x-python",
   "name": "python",
   "nbconvert_exporter": "python",
   "pygments_lexer": "ipython3",
   "version": "3.10.4"
  },
  "orig_nbformat": 4,
  "vscode": {
   "interpreter": {
    "hash": "4f946df053fbf2b937619d3c5458e7af74262f9a954d8797ba0b27400bcafe06"
   }
  }
 },
 "nbformat": 4,
 "nbformat_minor": 2
}
